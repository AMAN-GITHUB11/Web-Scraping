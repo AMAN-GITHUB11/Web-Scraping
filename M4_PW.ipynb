{
  "nbformat": 4,
  "nbformat_minor": 0,
  "metadata": {
    "colab": {
      "provenance": [],
      "authorship_tag": "ABX9TyOTo+fmcbp8XPGsSi/qYaO5",
      "include_colab_link": true
    },
    "kernelspec": {
      "name": "python3",
      "display_name": "Python 3"
    },
    "language_info": {
      "name": "python"
    }
  },
  "cells": [
    {
      "cell_type": "markdown",
      "metadata": {
        "id": "view-in-github",
        "colab_type": "text"
      },
      "source": [
        "<a href=\"https://colab.research.google.com/github/AMAN-GITHUB11/Web-Scraping/blob/main/M4_PW.ipynb\" target=\"_parent\"><img src=\"https://colab.research.google.com/assets/colab-badge.svg\" alt=\"Open In Colab\"/></a>"
      ]
    },
    {
      "cell_type": "code",
      "execution_count": null,
      "metadata": {
        "id": "dmjyOGUxarXe"
      },
      "outputs": [],
      "source": []
    },
    {
      "cell_type": "markdown",
      "source": [],
      "metadata": {
        "id": "2CSZIUW1EsRa"
      }
    },
    {
      "cell_type": "code",
      "source": [
        "import requests\n",
        "from bs4 import BeautifulSoup\n",
        "response = requests.get(\"http://quotes.toscrape.com/\" )\n",
        "soup = BeautifulSoup(response.content,'html.parser')\n",
        "quotes = soup.find_all('span', {'class' : 'text'})\n",
        "for i in quotes:\n",
        "  print(i.text.upper())"
      ],
      "metadata": {
        "colab": {
          "base_uri": "https://localhost:8080/"
        },
        "id": "zRqgitG7EtH9",
        "outputId": "2382b360-5a46-4a2c-f06e-18cdc76f6eac"
      },
      "execution_count": 1,
      "outputs": [
        {
          "output_type": "stream",
          "name": "stdout",
          "text": [
            "“THE WORLD AS WE HAVE CREATED IT IS A PROCESS OF OUR THINKING. IT CANNOT BE CHANGED WITHOUT CHANGING OUR THINKING.”\n",
            "“IT IS OUR CHOICES, HARRY, THAT SHOW WHAT WE TRULY ARE, FAR MORE THAN OUR ABILITIES.”\n",
            "“THERE ARE ONLY TWO WAYS TO LIVE YOUR LIFE. ONE IS AS THOUGH NOTHING IS A MIRACLE. THE OTHER IS AS THOUGH EVERYTHING IS A MIRACLE.”\n",
            "“THE PERSON, BE IT GENTLEMAN OR LADY, WHO HAS NOT PLEASURE IN A GOOD NOVEL, MUST BE INTOLERABLY STUPID.”\n",
            "“IMPERFECTION IS BEAUTY, MADNESS IS GENIUS AND IT'S BETTER TO BE ABSOLUTELY RIDICULOUS THAN ABSOLUTELY BORING.”\n",
            "“TRY NOT TO BECOME A MAN OF SUCCESS. RATHER BECOME A MAN OF VALUE.”\n",
            "“IT IS BETTER TO BE HATED FOR WHAT YOU ARE THAN TO BE LOVED FOR WHAT YOU ARE NOT.”\n",
            "“I HAVE NOT FAILED. I'VE JUST FOUND 10,000 WAYS THAT WON'T WORK.”\n",
            "“A WOMAN IS LIKE A TEA BAG; YOU NEVER KNOW HOW STRONG IT IS UNTIL IT'S IN HOT WATER.”\n",
            "“A DAY WITHOUT SUNSHINE IS LIKE, YOU KNOW, NIGHT.”\n"
          ]
        }
      ]
    },
    {
      "cell_type": "code",
      "source": [
        "#count the number of sentences and words\n",
        "\n",
        "s_count = 0\n",
        "for i in quotes:\n",
        "  a = i.text\n",
        "  s_count=s_count+1\n",
        "s_count"
      ],
      "metadata": {
        "colab": {
          "base_uri": "https://localhost:8080/"
        },
        "id": "VihQNAzIQ4Yf",
        "outputId": "2be7fb40-802e-4785-8880-e22b1703ce21"
      },
      "execution_count": 2,
      "outputs": [
        {
          "output_type": "execute_result",
          "data": {
            "text/plain": [
              "10"
            ]
          },
          "metadata": {},
          "execution_count": 2
        }
      ]
    },
    {
      "cell_type": "code",
      "source": [
        "#word count\n",
        "\n",
        "\n",
        "\n",
        "w_counts = []\n",
        "\n",
        "for i in quotes:\n",
        "\n",
        "    a = i.text\n",
        "\n",
        "    words = a.split()\n",
        "\n",
        "\n",
        "\n",
        "    w_len = len(words)\n",
        "\n",
        "\n",
        "\n",
        "    w_counts.append(w_len)\n",
        "w_counts"
      ],
      "metadata": {
        "colab": {
          "base_uri": "https://localhost:8080/"
        },
        "id": "oHjsH7eTRHEo",
        "outputId": "4dab8e46-07e6-470b-d5b1-f823b0feb483"
      },
      "execution_count": 3,
      "outputs": [
        {
          "output_type": "execute_result",
          "data": {
            "text/plain": [
              "[21, 16, 26, 19, 16, 14, 19, 12, 19, 9]"
            ]
          },
          "metadata": {},
          "execution_count": 3
        }
      ]
    },
    {
      "cell_type": "code",
      "source": [
        "#find the sentence with max words\n",
        "\n",
        "max(w_counts)\n",
        "\n",
        "\n",
        "\n",
        "l = [3, 4, 6, 7]\n",
        "\n",
        "l.index(7)\n",
        "\n",
        "\n",
        "\n",
        "b = w_counts.index(max(w_counts))\n",
        "\n",
        "\n",
        "\n",
        "print(\"The longest quote is: \\n\")\n",
        "\n",
        "quotes[b].text"
      ],
      "metadata": {
        "colab": {
          "base_uri": "https://localhost:8080/",
          "height": 70
        },
        "id": "BAkMsWm2RYz8",
        "outputId": "e6ec09bd-996b-43d0-8e06-fb8c6b142b02"
      },
      "execution_count": 4,
      "outputs": [
        {
          "output_type": "stream",
          "name": "stdout",
          "text": [
            "The longest quote is: \n",
            "\n"
          ]
        },
        {
          "output_type": "execute_result",
          "data": {
            "text/plain": [
              "'“There are only two ways to live your life. One is as though nothing is a miracle. The other is as though everything is a miracle.”'"
            ],
            "application/vnd.google.colaboratory.intrinsic+json": {
              "type": "string"
            }
          },
          "metadata": {},
          "execution_count": 4
        }
      ]
    },
    {
      "cell_type": "code",
      "source": [
        "#replacement\n",
        "\n",
        "# replace 'it' with 'the quote'\n",
        "\n",
        "for i in quotes:\n",
        "\n",
        "    print(i.text.replace('It', \"The quote\"))"
      ],
      "metadata": {
        "colab": {
          "base_uri": "https://localhost:8080/"
        },
        "id": "Uv-PziB4RjlO",
        "outputId": "f35d0182-2a46-4ec3-de5a-563816e12df0"
      },
      "execution_count": 5,
      "outputs": [
        {
          "output_type": "stream",
          "name": "stdout",
          "text": [
            "“The world as we have created it is a process of our thinking. The quote cannot be changed without changing our thinking.”\n",
            "“The quote is our choices, Harry, that show what we truly are, far more than our abilities.”\n",
            "“There are only two ways to live your life. One is as though nothing is a miracle. The other is as though everything is a miracle.”\n",
            "“The person, be it gentleman or lady, who has not pleasure in a good novel, must be intolerably stupid.”\n",
            "“Imperfection is beauty, madness is genius and it's better to be absolutely ridiculous than absolutely boring.”\n",
            "“Try not to become a man of success. Rather become a man of value.”\n",
            "“The quote is better to be hated for what you are than to be loved for what you are not.”\n",
            "“I have not failed. I've just found 10,000 ways that won't work.”\n",
            "“A woman is like a tea bag; you never know how strong it is until it's in hot water.”\n",
            "“A day without sunshine is like, you know, night.”\n"
          ]
        }
      ]
    },
    {
      "cell_type": "code",
      "source": [
        "#unique words\n",
        "unique_words = set()\n",
        "\n",
        "for i in quotes:\n",
        "\n",
        "    words = i.text.lower().split()\n",
        "\n",
        "    unique_words.update(words)\n",
        "unique_words"
      ],
      "metadata": {
        "colab": {
          "base_uri": "https://localhost:8080/"
        },
        "id": "UC2XXNv9Rnrc",
        "outputId": "44ab0a2b-37fa-4eda-fd97-2bdece60c834"
      },
      "execution_count": 6,
      "outputs": [
        {
          "output_type": "execute_result",
          "data": {
            "text/plain": [
              "{'10,000',\n",
              " 'a',\n",
              " 'abilities.”',\n",
              " 'absolutely',\n",
              " 'and',\n",
              " 'are',\n",
              " 'are,',\n",
              " 'as',\n",
              " 'bag;',\n",
              " 'be',\n",
              " 'beauty,',\n",
              " 'become',\n",
              " 'better',\n",
              " 'boring.”',\n",
              " 'cannot',\n",
              " 'changed',\n",
              " 'changing',\n",
              " 'choices,',\n",
              " 'created',\n",
              " 'day',\n",
              " 'everything',\n",
              " 'failed.',\n",
              " 'far',\n",
              " 'for',\n",
              " 'found',\n",
              " 'genius',\n",
              " 'gentleman',\n",
              " 'good',\n",
              " 'harry,',\n",
              " 'has',\n",
              " 'hated',\n",
              " 'have',\n",
              " 'hot',\n",
              " 'how',\n",
              " \"i've\",\n",
              " 'in',\n",
              " 'intolerably',\n",
              " 'is',\n",
              " 'it',\n",
              " \"it's\",\n",
              " 'just',\n",
              " 'know',\n",
              " 'know,',\n",
              " 'lady,',\n",
              " 'life.',\n",
              " 'like',\n",
              " 'like,',\n",
              " 'live',\n",
              " 'loved',\n",
              " 'madness',\n",
              " 'man',\n",
              " 'miracle.',\n",
              " 'miracle.”',\n",
              " 'more',\n",
              " 'must',\n",
              " 'never',\n",
              " 'night.”',\n",
              " 'not',\n",
              " 'not.”',\n",
              " 'nothing',\n",
              " 'novel,',\n",
              " 'of',\n",
              " 'one',\n",
              " 'only',\n",
              " 'or',\n",
              " 'other',\n",
              " 'our',\n",
              " 'person,',\n",
              " 'pleasure',\n",
              " 'process',\n",
              " 'rather',\n",
              " 'ridiculous',\n",
              " 'show',\n",
              " 'strong',\n",
              " 'stupid.”',\n",
              " 'success.',\n",
              " 'sunshine',\n",
              " 'tea',\n",
              " 'than',\n",
              " 'that',\n",
              " 'the',\n",
              " 'thinking.',\n",
              " 'thinking.”',\n",
              " 'though',\n",
              " 'to',\n",
              " 'truly',\n",
              " 'two',\n",
              " 'until',\n",
              " 'value.”',\n",
              " 'water.”',\n",
              " 'ways',\n",
              " 'we',\n",
              " 'what',\n",
              " 'who',\n",
              " 'without',\n",
              " 'woman',\n",
              " \"won't\",\n",
              " 'work.”',\n",
              " 'world',\n",
              " 'you',\n",
              " 'your',\n",
              " '“a',\n",
              " '“i',\n",
              " '“imperfection',\n",
              " '“it',\n",
              " '“the',\n",
              " '“there',\n",
              " '“try'}"
            ]
          },
          "metadata": {},
          "execution_count": 6
        }
      ]
    },
    {
      "cell_type": "code",
      "source": [
        "#Name\n",
        "Fname = [\"John\", \"Alice\", \"Michael\", \"Emma\", \"Daniel\", \"Sophia\", \"Ethan\", \"Olivia\", \"Liam\", \"Ava\"]\n",
        "Lname = [\"Smith\", \"Johnson\", \"Williams\", \"Brown\", \"Davis\", \"Wilson\", \"Miller\", \"Moore\", \"Taylor\", \"Anderson\"]\n",
        "full_name =[]\n",
        "for i in range(0,10):\n",
        "  full_name.append(Fname[i]+\" \"+ Lname[i])\n",
        "\n",
        "full_name"
      ],
      "metadata": {
        "colab": {
          "base_uri": "https://localhost:8080/"
        },
        "id": "WWOb8S86U2p3",
        "outputId": "7756687d-f629-496f-e067-2d2c464edf7d"
      },
      "execution_count": 7,
      "outputs": [
        {
          "output_type": "execute_result",
          "data": {
            "text/plain": [
              "['John Smith',\n",
              " 'Alice Johnson',\n",
              " 'Michael Williams',\n",
              " 'Emma Brown',\n",
              " 'Daniel Davis',\n",
              " 'Sophia Wilson',\n",
              " 'Ethan Miller',\n",
              " 'Olivia Moore',\n",
              " 'Liam Taylor',\n",
              " 'Ava Anderson']"
            ]
          },
          "metadata": {},
          "execution_count": 7
        }
      ]
    }
  ]
}